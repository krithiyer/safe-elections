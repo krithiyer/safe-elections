{
  "nbformat": 4,
  "nbformat_minor": 0,
  "metadata": {
    "colab": {
      "name": "CS294S_proj_torchServe_v1",
      "provenance": [],
      "collapsed_sections": [],
      "machine_shape": "hm",
      "authorship_tag": "ABX9TyNA85d0HOk1F0W5lIO0Wlnt",
      "include_colab_link": true
    },
    "kernelspec": {
      "name": "python3",
      "display_name": "Python 3"
    }
  },
  "cells": [
    {
      "cell_type": "markdown",
      "metadata": {
        "id": "view-in-github",
        "colab_type": "text"
      },
      "source": [
        "<a href=\"https://colab.research.google.com/github/krithiyer/safe-elections/blob/main/CS294S_proj_torchServe_v1.ipynb\" target=\"_parent\"><img src=\"https://colab.research.google.com/assets/colab-badge.svg\" alt=\"Open In Colab\"/></a>"
      ]
    },
    {
      "cell_type": "markdown",
      "metadata": {
        "id": "4pX-eQDJr1Pc"
      },
      "source": [
        "\n",
        "\n",
        "### Approach\n",
        "\n",
        "Use Quora Question Pairs fine-tuned BERT (sequence classification) model to select top 3 question to question matches from covid-related-questions. (User query to top-3 question match)\n",
        "\n",
        "Use SQUAD fine-tune BERT Question and Answer model to get the answer to the user question.\n",
        "\n"
      ]
    },
    {
      "cell_type": "code",
      "metadata": {
        "id": "R3L840eLiy7u",
        "outputId": "bfda957c-b057-401e-ec46-00c7f1716748",
        "colab": {
          "base_uri": "https://localhost:8080/"
        }
      },
      "source": [
        "from google.colab import drive\n",
        "drive.mount('/content/drive')"
      ],
      "execution_count": 1,
      "outputs": [
        {
          "output_type": "stream",
          "text": [
            "Drive already mounted at /content/drive; to attempt to forcibly remount, call drive.mount(\"/content/drive\", force_remount=True).\n"
          ],
          "name": "stdout"
        }
      ]
    },
    {
      "cell_type": "markdown",
      "metadata": {
        "id": "yx9HgxTSswkG"
      },
      "source": [
        "subdir tsTest has all the model files that will be used with the torchServe platform for connecting to FB messenger. (the handler files need to be tested in the torchServe environment)"
      ]
    },
    {
      "cell_type": "code",
      "metadata": {
        "id": "_B8SQJR8iyr9",
        "outputId": "895504f3-f01d-4ac8-ce91-c64ce2578929",
        "colab": {
          "base_uri": "https://localhost:8080/"
        }
      },
      "source": [
        "cd /content/drive/My Drive/cs294s/tsTest/"
      ],
      "execution_count": 2,
      "outputs": [
        {
          "output_type": "stream",
          "text": [
            "/content/drive/My Drive/cs294s/tsTest\n"
          ],
          "name": "stdout"
        }
      ]
    },
    {
      "cell_type": "code",
      "metadata": {
        "id": "tk7g35Yei8V5",
        "outputId": "f3a861cc-dd1d-40a8-d4ed-e63dde5a443c",
        "colab": {
          "base_uri": "https://localhost:8080/"
        }
      },
      "source": [
        "import torch\n",
        "# If there's a GPU available...\n",
        "if torch.cuda.is_available():    \n",
        "\n",
        "    # Tell PyTorch to use the GPU.    \n",
        "    device = torch.device(\"cuda\")\n",
        "\n",
        "    print('There are %d GPU(s) available.' % torch.cuda.device_count())\n",
        "\n",
        "    print('We will use the GPU:', torch.cuda.get_device_name(0))\n",
        "\n",
        "# If not...\n",
        "else:\n",
        "    print('No GPU available, using the CPU instead.')\n",
        "    device = torch.device(\"cpu\")"
      ],
      "execution_count": 3,
      "outputs": [
        {
          "output_type": "stream",
          "text": [
            "No GPU available, using the CPU instead.\n"
          ],
          "name": "stdout"
        }
      ]
    },
    {
      "cell_type": "code",
      "metadata": {
        "id": "LzJEN4-7rrbY",
        "outputId": "6e19f741-9cae-498b-c433-894afee5d81b",
        "colab": {
          "base_uri": "https://localhost:8080/"
        }
      },
      "source": [
        "pip install transformers"
      ],
      "execution_count": 4,
      "outputs": [
        {
          "output_type": "stream",
          "text": [
            "Requirement already satisfied: transformers in /usr/local/lib/python3.6/dist-packages (3.5.1)\n",
            "Requirement already satisfied: tokenizers==0.9.3 in /usr/local/lib/python3.6/dist-packages (from transformers) (0.9.3)\n",
            "Requirement already satisfied: sentencepiece==0.1.91 in /usr/local/lib/python3.6/dist-packages (from transformers) (0.1.91)\n",
            "Requirement already satisfied: dataclasses; python_version < \"3.7\" in /usr/local/lib/python3.6/dist-packages (from transformers) (0.7)\n",
            "Requirement already satisfied: sacremoses in /usr/local/lib/python3.6/dist-packages (from transformers) (0.0.43)\n",
            "Requirement already satisfied: tqdm>=4.27 in /usr/local/lib/python3.6/dist-packages (from transformers) (4.41.1)\n",
            "Requirement already satisfied: numpy in /usr/local/lib/python3.6/dist-packages (from transformers) (1.18.5)\n",
            "Requirement already satisfied: packaging in /usr/local/lib/python3.6/dist-packages (from transformers) (20.4)\n",
            "Requirement already satisfied: regex!=2019.12.17 in /usr/local/lib/python3.6/dist-packages (from transformers) (2019.12.20)\n",
            "Requirement already satisfied: filelock in /usr/local/lib/python3.6/dist-packages (from transformers) (3.0.12)\n",
            "Requirement already satisfied: requests in /usr/local/lib/python3.6/dist-packages (from transformers) (2.23.0)\n",
            "Requirement already satisfied: protobuf in /usr/local/lib/python3.6/dist-packages (from transformers) (3.12.4)\n",
            "Requirement already satisfied: joblib in /usr/local/lib/python3.6/dist-packages (from sacremoses->transformers) (0.17.0)\n",
            "Requirement already satisfied: six in /usr/local/lib/python3.6/dist-packages (from sacremoses->transformers) (1.15.0)\n",
            "Requirement already satisfied: click in /usr/local/lib/python3.6/dist-packages (from sacremoses->transformers) (7.1.2)\n",
            "Requirement already satisfied: pyparsing>=2.0.2 in /usr/local/lib/python3.6/dist-packages (from packaging->transformers) (2.4.7)\n",
            "Requirement already satisfied: chardet<4,>=3.0.2 in /usr/local/lib/python3.6/dist-packages (from requests->transformers) (3.0.4)\n",
            "Requirement already satisfied: idna<3,>=2.5 in /usr/local/lib/python3.6/dist-packages (from requests->transformers) (2.10)\n",
            "Requirement already satisfied: certifi>=2017.4.17 in /usr/local/lib/python3.6/dist-packages (from requests->transformers) (2020.6.20)\n",
            "Requirement already satisfied: urllib3!=1.25.0,!=1.25.1,<1.26,>=1.21.1 in /usr/local/lib/python3.6/dist-packages (from requests->transformers) (1.24.3)\n",
            "Requirement already satisfied: setuptools in /usr/local/lib/python3.6/dist-packages (from protobuf->transformers) (50.3.2)\n"
          ],
          "name": "stdout"
        }
      ]
    },
    {
      "cell_type": "code",
      "metadata": {
        "id": "tD7tg6QBAyaD"
      },
      "source": [
        "import torch"
      ],
      "execution_count": 5,
      "outputs": []
    },
    {
      "cell_type": "markdown",
      "metadata": {
        "id": "iLXcdXPVpabR"
      },
      "source": [
        "test model_class for use with TorchServe"
      ]
    },
    {
      "cell_type": "code",
      "metadata": {
        "id": "NWIPerAI3mUB"
      },
      "source": [
        "test_input = 'Do polling locations have disability accomodations?'"
      ],
      "execution_count": 15,
      "outputs": []
    },
    {
      "cell_type": "code",
      "metadata": {
        "id": "_ePI1nad7RiK",
        "outputId": "8d233fb2-62d5-4d64-ffd6-dda106959820",
        "colab": {
          "base_uri": "https://localhost:8080/"
        }
      },
      "source": [
        "!python3 -m compileall bot_transformer_model.py"
      ],
      "execution_count": 8,
      "outputs": [
        {
          "output_type": "stream",
          "text": [
            "Compiling 'bot_transformer_model.py'...\n"
          ],
          "name": "stdout"
        }
      ]
    },
    {
      "cell_type": "code",
      "metadata": {
        "id": "UfY7sFL57SrR"
      },
      "source": [
        "from bot_transformer_model import BotQuestionClassifier"
      ],
      "execution_count": 9,
      "outputs": []
    },
    {
      "cell_type": "markdown",
      "metadata": {
        "id": "KnXSeh-8HcNP"
      },
      "source": [
        "the number of questions for matching is specified in the constructor to the mode.  BotQuestionClassifier(N) will match N questions from the database (default is 5)"
      ]
    },
    {
      "cell_type": "code",
      "metadata": {
        "id": "0KK6Z4ko91Pp"
      },
      "source": [
        "model1 = BotQuestionClassifier(3)\n",
        "out = model1.find_matching_questions (test_input)"
      ],
      "execution_count": 16,
      "outputs": []
    },
    {
      "cell_type": "code",
      "metadata": {
        "id": "sEg_T6WaGF5k",
        "outputId": "62d2acd5-cdd7-4007-946b-c05dc6dc5ede",
        "colab": {
          "base_uri": "https://localhost:8080/",
          "height": 193
        }
      },
      "source": [
        "out.head()"
      ],
      "execution_count": 17,
      "outputs": [
        {
          "output_type": "execute_result",
          "data": {
            "text/html": [
              "<div>\n",
              "<style scoped>\n",
              "    .dataframe tbody tr th:only-of-type {\n",
              "        vertical-align: middle;\n",
              "    }\n",
              "\n",
              "    .dataframe tbody tr th {\n",
              "        vertical-align: top;\n",
              "    }\n",
              "\n",
              "    .dataframe thead th {\n",
              "        text-align: right;\n",
              "    }\n",
              "</style>\n",
              "<table border=\"1\" class=\"dataframe\">\n",
              "  <thead>\n",
              "    <tr style=\"text-align: right;\">\n",
              "      <th></th>\n",
              "      <th>User_Question</th>\n",
              "      <th>FAQ_Question</th>\n",
              "      <th>FAQ_Answer</th>\n",
              "      <th>Logit_0</th>\n",
              "      <th>Logit_1</th>\n",
              "      <th>Probability_0</th>\n",
              "      <th>Probability_1</th>\n",
              "    </tr>\n",
              "  </thead>\n",
              "  <tbody>\n",
              "    <tr>\n",
              "      <th>0</th>\n",
              "      <td>Do polling locations have disability accomodat...</td>\n",
              "      <td>How do I find out if my polling place has moved?</td>\n",
              "      <td>Contact your local Circuit Clerk’s Office or E...</td>\n",
              "      <td>5.003092</td>\n",
              "      <td>-4.526340</td>\n",
              "      <td>0.999927</td>\n",
              "      <td>0.000073</td>\n",
              "    </tr>\n",
              "    <tr>\n",
              "      <th>0</th>\n",
              "      <td>Do polling locations have disability accomodat...</td>\n",
              "      <td>WHY DID YOU MOVE MY POLLING LOCATION?</td>\n",
              "      <td>Polling locations are changed for various reas...</td>\n",
              "      <td>5.011953</td>\n",
              "      <td>-4.525705</td>\n",
              "      <td>0.999928</td>\n",
              "      <td>0.000072</td>\n",
              "    </tr>\n",
              "    <tr>\n",
              "      <th>0</th>\n",
              "      <td>Do polling locations have disability accomodat...</td>\n",
              "      <td>Can I got vote yet in Hawaii</td>\n",
              "      <td>In Hawaii, in-person voting starts 2020-10-20</td>\n",
              "      <td>5.020770</td>\n",
              "      <td>-4.568736</td>\n",
              "      <td>0.999932</td>\n",
              "      <td>0.000068</td>\n",
              "    </tr>\n",
              "  </tbody>\n",
              "</table>\n",
              "</div>"
            ],
            "text/plain": [
              "                                       User_Question  ... Probability_1\n",
              "0  Do polling locations have disability accomodat...  ...      0.000073\n",
              "0  Do polling locations have disability accomodat...  ...      0.000072\n",
              "0  Do polling locations have disability accomodat...  ...      0.000068\n",
              "\n",
              "[3 rows x 7 columns]"
            ]
          },
          "metadata": {
            "tags": []
          },
          "execution_count": 17
        }
      ]
    },
    {
      "cell_type": "code",
      "metadata": {
        "id": "8eDMle_4GG1S",
        "outputId": "48f98cd5-d70b-42cf-c192-4abaabfcdf01",
        "colab": {
          "base_uri": "https://localhost:8080/"
        }
      },
      "source": [
        "final_out = model1.find_matching_answers(test_input, out)"
      ],
      "execution_count": 18,
      "outputs": [
        {
          "output_type": "stream",
          "text": [
            "/usr/local/lib/python3.6/dist-packages/transformers/tokenization_utils_base.py:1423: FutureWarning: The `max_len` attribute has been deprecated and will be removed in a future version, use `model_max_length` instead.\n",
            "  FutureWarning,\n",
            "/usr/local/lib/python3.6/dist-packages/transformers/tokenization_utils_base.py:1423: FutureWarning: The `max_len` attribute has been deprecated and will be removed in a future version, use `model_max_length` instead.\n",
            "  FutureWarning,\n",
            "/usr/local/lib/python3.6/dist-packages/transformers/tokenization_utils_base.py:1423: FutureWarning: The `max_len` attribute has been deprecated and will be removed in a future version, use `model_max_length` instead.\n",
            "  FutureWarning,\n"
          ],
          "name": "stderr"
        }
      ]
    },
    {
      "cell_type": "code",
      "metadata": {
        "id": "QcgblzzOGanD",
        "outputId": "5333cd10-8384-42a1-f1c6-0ff11e493f76",
        "colab": {
          "base_uri": "https://localhost:8080/",
          "height": 193
        }
      },
      "source": [
        "final_out.head()"
      ],
      "execution_count": 19,
      "outputs": [
        {
          "output_type": "execute_result",
          "data": {
            "text/html": [
              "<div>\n",
              "<style scoped>\n",
              "    .dataframe tbody tr th:only-of-type {\n",
              "        vertical-align: middle;\n",
              "    }\n",
              "\n",
              "    .dataframe tbody tr th {\n",
              "        vertical-align: top;\n",
              "    }\n",
              "\n",
              "    .dataframe thead th {\n",
              "        text-align: right;\n",
              "    }\n",
              "</style>\n",
              "<table border=\"1\" class=\"dataframe\">\n",
              "  <thead>\n",
              "    <tr style=\"text-align: right;\">\n",
              "      <th></th>\n",
              "      <th>User_Question</th>\n",
              "      <th>FAQ_Question</th>\n",
              "      <th>FAQ_Answer</th>\n",
              "      <th>Matched_Answer</th>\n",
              "      <th>Match_Score</th>\n",
              "    </tr>\n",
              "  </thead>\n",
              "  <tbody>\n",
              "    <tr>\n",
              "      <th>0</th>\n",
              "      <td>Do polling locations have disability accomodat...</td>\n",
              "      <td>Can I got vote yet in Hawaii</td>\n",
              "      <td>In Hawaii, in-person voting starts 2020-10-20</td>\n",
              "      <td>in-person voting starts 2020-10-20</td>\n",
              "      <td>0.1665</td>\n",
              "    </tr>\n",
              "    <tr>\n",
              "      <th>0</th>\n",
              "      <td>Do polling locations have disability accomodat...</td>\n",
              "      <td>WHY DID YOU MOVE MY POLLING LOCATION?</td>\n",
              "      <td>Polling locations are changed for various reas...</td>\n",
              "      <td>precincts no longer willing to host polling op...</td>\n",
              "      <td>0.1240</td>\n",
              "    </tr>\n",
              "    <tr>\n",
              "      <th>0</th>\n",
              "      <td>Do polling locations have disability accomodat...</td>\n",
              "      <td>How do I find out if my polling place has moved?</td>\n",
              "      <td>Contact your local Circuit Clerk’s Office or E...</td>\n",
              "      <td>(601)576-2550.</td>\n",
              "      <td>0.0148</td>\n",
              "    </tr>\n",
              "  </tbody>\n",
              "</table>\n",
              "</div>"
            ],
            "text/plain": [
              "                                       User_Question  ... Match_Score\n",
              "0  Do polling locations have disability accomodat...  ...      0.1665\n",
              "0  Do polling locations have disability accomodat...  ...      0.1240\n",
              "0  Do polling locations have disability accomodat...  ...      0.0148\n",
              "\n",
              "[3 rows x 5 columns]"
            ]
          },
          "metadata": {
            "tags": []
          },
          "execution_count": 19
        }
      ]
    },
    {
      "cell_type": "code",
      "metadata": {
        "id": "Sxxn75AUGdhE"
      },
      "source": [
        ""
      ],
      "execution_count": 13,
      "outputs": []
    }
  ]
}